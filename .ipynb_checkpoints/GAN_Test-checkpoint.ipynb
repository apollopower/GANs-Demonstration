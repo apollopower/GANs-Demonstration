{
 "cells": [
  {
   "cell_type": "markdown",
   "metadata": {},
   "source": [
    "# General Adverserial Network in Tensorflow"
   ]
  },
  {
   "cell_type": "markdown",
   "metadata": {},
   "source": [
    "This is a basic implementation of General Adverserial Networks done with Tensorflow. The purpose of this notebook is to develop a good understanding of the workings of GANs."
   ]
  },
  {
   "cell_type": "markdown",
   "metadata": {},
   "source": [
    "We will generate a quadratic distribution of data and model a GAN that can create data from said distribution."
   ]
  },
  {
   "cell_type": "markdown",
   "metadata": {},
   "source": [
    "### Step 0: Import Required Libraries"
   ]
  },
  {
   "cell_type": "code",
   "execution_count": 1,
   "metadata": {},
   "outputs": [],
   "source": [
    "import numpy as np\n",
    "import tensorflow as tf"
   ]
  },
  {
   "cell_type": "markdown",
   "metadata": {},
   "source": [
    "### Step 1: Generate Training Data"
   ]
  },
  {
   "cell_type": "code",
   "execution_count": 2,
   "metadata": {},
   "outputs": [],
   "source": [
    "# Defining Quadratic Function and Sample Data Function\n",
    "def quad_func(x):\n",
    "    return 10 + x*x\n",
    "\n",
    "def sample_data(n=1000, scale=100):\n",
    "    data = []\n",
    "    \n",
    "    x = scale*(np.random.random_sample((n,)) - 0.5)\n",
    "    \n",
    "    for i in range(n):\n",
    "        yi = quad_func(x[i])\n",
    "        data.append([x[i],yi])\n",
    "        \n",
    "    return np.array(data)\n",
    "\n",
    "# Random Data for Generator\n",
    "def sample_Z(m, n):\n",
    "    return np.random.uniform(-1., 1., size=[m, n])"
   ]
  },
  {
   "cell_type": "markdown",
   "metadata": {},
   "source": [
    "### Step 2: Implement the Generator Network"
   ]
  },
  {
   "cell_type": "code",
   "execution_count": 3,
   "metadata": {},
   "outputs": [],
   "source": [
    "def generator(Z, hsize=[16,16], reuse=False):\n",
    "    with tf.variable_scope(\"GAN/Generator\", reuse=reuse):\n",
    "        h1 = tf.layers.dense(Z, hsize[0], activation=tf.nn.leaky_relu)\n",
    "        h2 = tf.layers.dense(h1, hsize[1], activation=tf.nn.leaky_relu)\n",
    "        out = tf.layers.dense(h2,2)\n",
    "    return out"
   ]
  },
  {
   "cell_type": "markdown",
   "metadata": {},
   "source": [
    "### Step 3: Implement the Discriminator Network"
   ]
  },
  {
   "cell_type": "code",
   "execution_count": 4,
   "metadata": {},
   "outputs": [],
   "source": [
    "def discriminator(X, hsize=[16,16], reuse=False):\n",
    "    with tf.variable_scope(\"GAN/Discriminator\", reuse=reuse):\n",
    "        h1 = tf.layers.dense(X, hsize[0], activation=tf.nn.leaky_relu)\n",
    "        h2 = tf.layers.dense(h1, hsize[1], activation=tf.nn.leaky_relu)\n",
    "        h3 = tf.layers.dense(h2, 2)\n",
    "        out = tf.layers.dense(h3, 1)\n",
    "    return out, h3"
   ]
  },
  {
   "cell_type": "markdown",
   "metadata": {},
   "source": [
    "### Step 4: Defining Variables, Loss Functions, & Optimizers"
   ]
  },
  {
   "cell_type": "code",
   "execution_count": 5,
   "metadata": {},
   "outputs": [],
   "source": [
    "X = tf.placeholder(tf.float32, [None,2])\n",
    "Z = tf.placeholder(tf.float32, [None,2])"
   ]
  },
  {
   "cell_type": "code",
   "execution_count": 6,
   "metadata": {},
   "outputs": [],
   "source": [
    "G_sample = generator(Z)\n",
    "r_logits, r_rep = discriminator(X)\n",
    "f_logits, g_rep = discriminator(G_sample,reuse=True)"
   ]
  },
  {
   "cell_type": "markdown",
   "metadata": {},
   "source": [
    "Defining Loss Functions"
   ]
  },
  {
   "cell_type": "code",
   "execution_count": 7,
   "metadata": {},
   "outputs": [],
   "source": [
    "disc_loss = tf.reduce_mean(tf.nn.sigmoid_cross_entropy_with_logits(logits=r_logits,labels=tf.ones_like(r_logits)) + tf.nn.sigmoid_cross_entropy_with_logits(logits=f_logits,labels=tf.zeros_like(f_logits)))\n",
    "gen_loss = tf.reduce_mean(tf.nn.sigmoid_cross_entropy_with_logits(logits=f_logits,labels=tf.ones_like(f_logits)))"
   ]
  },
  {
   "cell_type": "markdown",
   "metadata": {},
   "source": [
    "Defining the Optimizers"
   ]
  },
  {
   "cell_type": "code",
   "execution_count": 8,
   "metadata": {},
   "outputs": [],
   "source": [
    "gen_vars = tf.get_collection(tf.GraphKeys.GLOBAL_VARIABLES, scope=\"GAN/Generator\")\n",
    "disc_vars = tf.get_collection(tf.GraphKeys.GLOBAL_VARIABLES, scope=\"GAN/Discriminator\")\n",
    "\n",
    "# Training Steps for each network\n",
    "gen_step = tf.train.RMSPropOptimizer(learning_rate=0.001).minimize(gen_loss, var_list=gen_vars)\n",
    "disc_step = tf.train.RMSPropOptimizer(learning_rate=0.001).minimize(disc_loss,var_list = disc_vars)"
   ]
  },
  {
   "cell_type": "markdown",
   "metadata": {},
   "source": [
    "### Step 5: Begin TF Sessions and Train Adverserial Network"
   ]
  },
  {
   "cell_type": "code",
   "execution_count": 9,
   "metadata": {},
   "outputs": [],
   "source": [
    "# Create TF Session:\n",
    "sess = tf.Session()\n",
    "tf.global_variables_initializer().run(session=sess)\n",
    "\n",
    "# Setting Batch and Step Size\n",
    "batch_size = 256\n",
    "nd_steps = 10\n",
    "ng_steps = 10\n",
    "\n",
    "# Setting Actual Data Distribution\n",
    "X_plot = sample_data(n=batch_size)"
   ]
  },
  {
   "cell_type": "code",
   "execution_count": 10,
   "metadata": {},
   "outputs": [
    {
     "name": "stdout",
     "output_type": "stream",
     "text": [
      "Iterations: 0\t Discriminator loss: 15.7284\t Generator loss: 0.6950\n",
      "Iterations: 1000\t Discriminator loss: 0.9908\t Generator loss: 1.4733\n",
      "Iterations: 2000\t Discriminator loss: 1.6474\t Generator loss: 2.4633\n",
      "Iterations: 3000\t Discriminator loss: 3.7640\t Generator loss: 0.0001\n",
      "Iterations: 4000\t Discriminator loss: 1.8745\t Generator loss: 0.0107\n",
      "Iterations: 5000\t Discriminator loss: 3.3484\t Generator loss: 0.0108\n",
      "Iterations: 6000\t Discriminator loss: 2.3422\t Generator loss: 0.0432\n",
      "Iterations: 7000\t Discriminator loss: 1.7666\t Generator loss: 0.2541\n",
      "Iterations: 8000\t Discriminator loss: 1.3542\t Generator loss: 0.8209\n",
      "Iterations: 9000\t Discriminator loss: 1.3932\t Generator loss: 0.6519\n",
      "Iterations: 10000\t Discriminator loss: 1.3900\t Generator loss: 0.7448\n"
     ]
    }
   ],
   "source": [
    "for i in range(10001):\n",
    "    X_batch = sample_data(n=batch_size)\n",
    "    Z_batch = sample_Z(batch_size, 2)\n",
    "    _, dloss = sess.run([disc_step, disc_loss], feed_dict={X: X_batch, Z: Z_batch})\n",
    "    _, gloss = sess.run([gen_step, gen_loss], feed_dict={Z: Z_batch})\n",
    "    \n",
    "    if i % 1000 == 0:\n",
    "        print(\"Iterations: %d\\t Discriminator loss: %.4f\\t Generator loss: %.4f\"%(i,dloss,gloss))"
   ]
  },
  {
   "cell_type": "code",
   "execution_count": null,
   "metadata": {},
   "outputs": [],
   "source": []
  }
 ],
 "metadata": {
  "kernelspec": {
   "display_name": "Python [conda env:anaconda3]",
   "language": "python",
   "name": "conda-env-anaconda3-py"
  },
  "language_info": {
   "codemirror_mode": {
    "name": "ipython",
    "version": 3
   },
   "file_extension": ".py",
   "mimetype": "text/x-python",
   "name": "python",
   "nbconvert_exporter": "python",
   "pygments_lexer": "ipython3",
   "version": "3.6.3"
  }
 },
 "nbformat": 4,
 "nbformat_minor": 2
}
